import pandas as pd
from sklearn.model_selection import train_test_split, RandomizedSearchCV, GridSearchCV
from sklearn.tree import DecisionTreeClassifier
from sklearn.ensemble import RandomForestClassifier
from sklearn.metrics import classification_report, accuracy_score

# Load the dataset
file_path = '/content/drive/My Drive/ML/datasaurus.csv'
dataset = pd.read_csv(file_path)

# Separate features and target variable
X = dataset[['x', 'y']]
y = dataset['dataset']

# Split data into training and testing sets
X_train, X_test, y_train, y_test = train_test_split(X, y, test_size=0.2, random_state=42)

# Baseline Decision Tree Model
tree_model = DecisionTreeClassifier(random_state=42)
tree_model.fit(X_train, y_train)
tree_predictions = tree_model.predict(X_test)
print("Baseline Decision Tree Classification Report:")
print(classification_report(y_test, tree_predictions))
tree_accuracy = accuracy_score(y_test, tree_predictions)
print("Baseline Decision Tree Accuracy:", tree_accuracy)

# Random Search for Decision Tree
random_param_dist_tree = {
    'criterion': ['gini', 'entropy'],
    'max_depth': [None, 10, 20, 30],
    'min_samples_split': [2, 5, 10],
    'min_samples_leaf': [1, 2, 4, 6],
    'max_features': ['sqrt', 'log2', None]
}
random_search_tree = RandomizedSearchCV(tree_model, param_distributions=random_param_dist_tree, n_iter=50, cv=5, random_state=43)
random_search_tree.fit(X_train, y_train)
random_search_tree_predictions = random_search_tree.predict(X_test)
print("\nRandom Search Decision Tree Classification Report:")
print(classification_report(y_test, random_search_tree_predictions))
random_search_accuracy_tree = accuracy_score(y_test, random_search_tree_predictions)
print("Random Search Decision Tree Accuracy:", random_search_accuracy_tree)

# Grid Search for Decision Tree
grid_param_grid_tree = {
    'criterion': ['gini', 'entropy'],
    'max_depth': [None, 10, 20, 30],
    'min_samples_split': [2, 5, 10],
    'min_samples_leaf': [1, 2, 4, 6],
    'max_features': ['sqrt', 'log2']
}
grid_search_tree = GridSearchCV(tree_model, param_grid=grid_param_grid_tree, cv=5)
grid_search_tree.fit(X_train, y_train)
grid_search_tree_predictions = grid_search_tree.predict(X_test)
print("\nGrid Search Decision Tree Classification Report:")
print(classification_report(y_test, grid_search_tree_predictions))
grid_search_accuracy_tree = accuracy_score(y_test, grid_search_tree_predictions)
print("Grid Search Decision Tree Accuracy:", grid_search_accuracy_tree)

# Baseline Random Forest Model
forest_model = RandomForestClassifier(random_state=42)
forest_model.fit(X_train, y_train)
forest_predictions = forest_model.predict(X_test)
print("\nBaseline Random Forest Classification Report:")
print(classification_report(y_test, forest_predictions))
forest_accuracy = accuracy_score(y_test, forest_predictions)
print("Baseline Random Forest Accuracy:", forest_accuracy)

# Random Search for Random Forest
random_param_dist_forest = {
    'n_estimators': [50, 100, 200],
    'criterion': ['gini', 'entropy'],
    'max_depth': [None, 10, 20, 30],
    'min_samples_split': [2, 5, 10],
    'min_samples_leaf': [1, 2, 4, 6],
    'max_features': ['sqrt', 'log2']
}
random_search_forest = RandomizedSearchCV(forest_model, param_distributions=random_param_dist_forest, n_iter=50, cv=5, random_state=43)
random_search_forest.fit(X_train, y_train)
random_search_forest_predictions = random_search_forest.predict(X_test)
print("\nRandom Search Random Forest Classification Report:")
print(classification_report(y_test, random_search_forest_predictions))
random_search_accuracy_forest = accuracy_score(y_test, random_search_forest_predictions)
print("Random Search Random Forest Accuracy:", random_search_accuracy_forest)

# Grid Search for Random Forest
grid_param_grid_forest = {
    'n_estimators': [50, 100, 200],
    'criterion': ['gini', 'entropy'],
    'max_depth': [None, 10, 20, 30],
    'min_samples_split': [2, 5, 10],
    'min_samples_leaf': [1, 2, 4],
    'max_features': ['sqrt', 'log2']
}
grid_search_forest = GridSearchCV(forest_model, param_grid=grid_param_grid_forest, cv=5)
grid_search_forest.fit(X_train, y_train)
grid_search_forest_predictions = grid_search_forest.predict(X_test)
print("\nGrid Search Random Forest Classification Report:")
print(classification_report(y_test, grid_search_forest_predictions))
grid_search_accuracy_forest = accuracy_score(y_test, grid_search_forest_predictions)
print("Grid Search Random Forest Accuracy:", grid_search_accuracy_forest)
