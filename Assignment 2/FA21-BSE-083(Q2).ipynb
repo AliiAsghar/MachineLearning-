# Date: March 24, 2027
# Course: CSC354 - Machine Learning
# Assignment: Decision Trees
# Author: Ali Asghar
# ID: FA21-BSE-083

import pandas as pd
from sklearn.model_selection import train_test_split, RandomizedSearchCV, GridSearchCV
from sklearn.tree import DecisionTreeRegressor
from sklearn.metrics import mean_squared_error

# Load the dataset
file_path = '/content/drive/My Drive/ML/cars-dataset.csv'
cars_data = pd.read_csv(file_path)

# Display a preview of the dataset
print("Preview of the dataset:")
print(cars_data.head())

# Perform one-hot encoding
cars_encoded = pd.get_dummies(cars_data, drop_first=True)
X = cars_encoded.drop(columns=['selling_price'])
y = cars_encoded['selling_price']

# Split the dataset into training and testing sets
X_train, X_test, y_train, y_test = train_test_split(X, y, test_size=0.2, random_state=42)

# Baseline Decision Tree Regressor
baseline_tree = DecisionTreeRegressor(random_state=42)
baseline_tree.fit(X_train, y_train)
baseline_preds = baseline_tree.predict(X_test)
baseline_mse = mean_squared_error(y_test, baseline_preds)
print("Baseline Decision Tree MSE:", baseline_mse)

# Random Search for hyperparameter tuning
random_param_dist = {
    'max_depth': [None, 10, 20, 30, 50],
    'min_samples_split': [2, 5, 10],
    'min_samples_leaf': [1, 2, 4],
    'max_features': ['auto', 'sqrt', 'log2']
}

random_search_tree = RandomizedSearchCV(baseline_tree, param_distributions=random_param_dist, n_iter=50, cv=5, random_state=42)
random_search_tree.fit(X_train, y_train)
best_random_params = random_search_tree.best_params_
random_search_preds = random_search_tree.predict(X_test)
random_search_mse = mean_squared_error(y_test, random_search_preds)
print("Random Search Decision Tree MSE:", random_search_mse)

# Grid Search for hyperparameter tuning
grid_param_grid = {
    'max_depth': [80],
    'min_samples_split': [10],
    'min_samples_leaf': [15],
    'max_features': ['auto', 'sqrt', 'log2']
}

grid_search_tree = GridSearchCV(baseline_tree, param_grid=grid_param_grid, cv=5)
grid_search_tree.fit(X_train, y_train)
best_grid_params = grid_search_tree.best_params_
grid_search_preds = grid_search_tree.predict(X_test)
grid_search_mse = mean_squared_error(y_test, grid_search_preds)
print("Grid Search Decision Tree MSE:", grid_search_mse)
